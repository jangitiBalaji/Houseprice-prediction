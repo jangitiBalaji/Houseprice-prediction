{
 "cells": [
  {
   "cell_type": "code",
   "execution_count": 1,
   "id": "f584c40d-425b-40a5-a3cb-51ee00e5ce62",
   "metadata": {},
   "outputs": [],
   "source": [
    "import pandas as pd\n",
    "import numpy as np\n",
    "import seaborn as sns\n",
    "import matplotlib.pyplot as plt\n",
    "from sklearn.model_selection import train_test_split\n",
    "from sklearn.ensemble import RandomForestRegressor\n",
    "from sklearn.metrics import mean_absolute_error, mean_squared_error, r2_score\n",
    "\n",
    "# Load dataset\n",
    "file_path = \"/mnt/data/Hyderbad_House_price.csv\"\n",
    "df = pd.read_csv(\"C:/Users/jangi/house price (PP)/Hyderbad_House_price.csv\")\n",
    "\n",
    "# Drop unnecessary index column\n",
    "df.drop(columns=['Unnamed: 0'], inplace=True)\n"
   ]
  },
  {
   "cell_type": "code",
   "execution_count": 2,
   "id": "59343ef4-b4e9-4027-b9ce-be06049c315d",
   "metadata": {},
   "outputs": [
    {
     "data": {
      "text/html": [
       "<div>\n",
       "<style scoped>\n",
       "    .dataframe tbody tr th:only-of-type {\n",
       "        vertical-align: middle;\n",
       "    }\n",
       "\n",
       "    .dataframe tbody tr th {\n",
       "        vertical-align: top;\n",
       "    }\n",
       "\n",
       "    .dataframe thead th {\n",
       "        text-align: right;\n",
       "    }\n",
       "</style>\n",
       "<table border=\"1\" class=\"dataframe\">\n",
       "  <thead>\n",
       "    <tr style=\"text-align: right;\">\n",
       "      <th></th>\n",
       "      <th>title</th>\n",
       "      <th>location</th>\n",
       "      <th>price(L)</th>\n",
       "      <th>rate_persqft</th>\n",
       "      <th>area_insqft</th>\n",
       "      <th>building_status</th>\n",
       "    </tr>\n",
       "  </thead>\n",
       "  <tbody>\n",
       "    <tr>\n",
       "      <th>0</th>\n",
       "      <td>3 BHK Apartment</td>\n",
       "      <td>Nizampet</td>\n",
       "      <td>108.00</td>\n",
       "      <td>6000</td>\n",
       "      <td>1805</td>\n",
       "      <td>Under Construction</td>\n",
       "    </tr>\n",
       "    <tr>\n",
       "      <th>1</th>\n",
       "      <td>3 BHK Apartment</td>\n",
       "      <td>Bachupally</td>\n",
       "      <td>85.80</td>\n",
       "      <td>5500</td>\n",
       "      <td>1560</td>\n",
       "      <td>Under Construction</td>\n",
       "    </tr>\n",
       "    <tr>\n",
       "      <th>2</th>\n",
       "      <td>2 BHK Apartment</td>\n",
       "      <td>Dundigal</td>\n",
       "      <td>55.64</td>\n",
       "      <td>5200</td>\n",
       "      <td>1070</td>\n",
       "      <td>Under Construction</td>\n",
       "    </tr>\n",
       "    <tr>\n",
       "      <th>3</th>\n",
       "      <td>2 BHK Apartment</td>\n",
       "      <td>Pocharam</td>\n",
       "      <td>60.48</td>\n",
       "      <td>4999</td>\n",
       "      <td>1210</td>\n",
       "      <td>Under Construction</td>\n",
       "    </tr>\n",
       "    <tr>\n",
       "      <th>4</th>\n",
       "      <td>3 BHK Apartment</td>\n",
       "      <td>Kollur</td>\n",
       "      <td>113.00</td>\n",
       "      <td>5999</td>\n",
       "      <td>1900</td>\n",
       "      <td>Under Construction</td>\n",
       "    </tr>\n",
       "    <tr>\n",
       "      <th>...</th>\n",
       "      <td>...</td>\n",
       "      <td>...</td>\n",
       "      <td>...</td>\n",
       "      <td>...</td>\n",
       "      <td>...</td>\n",
       "      <td>...</td>\n",
       "    </tr>\n",
       "    <tr>\n",
       "      <th>3655</th>\n",
       "      <td>2 BHK Apartment</td>\n",
       "      <td>Ameerpet</td>\n",
       "      <td>60.00</td>\n",
       "      <td>6000</td>\n",
       "      <td>1000</td>\n",
       "      <td>Ready to move</td>\n",
       "    </tr>\n",
       "    <tr>\n",
       "      <th>3656</th>\n",
       "      <td>2 BHK Independent House</td>\n",
       "      <td>Jawahar nagar</td>\n",
       "      <td>65.00</td>\n",
       "      <td>3250</td>\n",
       "      <td>2000</td>\n",
       "      <td>Ready to move</td>\n",
       "    </tr>\n",
       "    <tr>\n",
       "      <th>3657</th>\n",
       "      <td>2 BHK Independent Floor</td>\n",
       "      <td>Rasoolpura</td>\n",
       "      <td>65.00</td>\n",
       "      <td>6500</td>\n",
       "      <td>1000</td>\n",
       "      <td>Ready to move</td>\n",
       "    </tr>\n",
       "    <tr>\n",
       "      <th>3658</th>\n",
       "      <td>2 BHK Independent Floor</td>\n",
       "      <td>Begum Bazar Chatri</td>\n",
       "      <td>55.00</td>\n",
       "      <td>5500</td>\n",
       "      <td>1000</td>\n",
       "      <td>Ready to move</td>\n",
       "    </tr>\n",
       "    <tr>\n",
       "      <th>3659</th>\n",
       "      <td>2 BHK Independent House</td>\n",
       "      <td>Rajeev Nagar</td>\n",
       "      <td>67.00</td>\n",
       "      <td>4962</td>\n",
       "      <td>1350</td>\n",
       "      <td>Ready to move</td>\n",
       "    </tr>\n",
       "  </tbody>\n",
       "</table>\n",
       "<p>3660 rows × 6 columns</p>\n",
       "</div>"
      ],
      "text/plain": [
       "                        title            location  price(L)  rate_persqft  \\\n",
       "0             3 BHK Apartment            Nizampet    108.00          6000   \n",
       "1             3 BHK Apartment          Bachupally     85.80          5500   \n",
       "2             2 BHK Apartment            Dundigal     55.64          5200   \n",
       "3             2 BHK Apartment            Pocharam     60.48          4999   \n",
       "4             3 BHK Apartment              Kollur    113.00          5999   \n",
       "...                       ...                 ...       ...           ...   \n",
       "3655          2 BHK Apartment            Ameerpet     60.00          6000   \n",
       "3656  2 BHK Independent House       Jawahar nagar     65.00          3250   \n",
       "3657  2 BHK Independent Floor          Rasoolpura     65.00          6500   \n",
       "3658  2 BHK Independent Floor  Begum Bazar Chatri     55.00          5500   \n",
       "3659  2 BHK Independent House        Rajeev Nagar     67.00          4962   \n",
       "\n",
       "      area_insqft     building_status  \n",
       "0            1805  Under Construction  \n",
       "1            1560  Under Construction  \n",
       "2            1070  Under Construction  \n",
       "3            1210  Under Construction  \n",
       "4            1900  Under Construction  \n",
       "...           ...                 ...  \n",
       "3655         1000       Ready to move  \n",
       "3656         2000       Ready to move  \n",
       "3657         1000       Ready to move  \n",
       "3658         1000       Ready to move  \n",
       "3659         1350       Ready to move  \n",
       "\n",
       "[3660 rows x 6 columns]"
      ]
     },
     "execution_count": 2,
     "metadata": {},
     "output_type": "execute_result"
    }
   ],
   "source": [
    "df"
   ]
  },
  {
   "cell_type": "code",
   "execution_count": 3,
   "id": "f37953d0-cee4-4128-9cee-1140a5e4db3a",
   "metadata": {},
   "outputs": [
    {
     "name": "stderr",
     "output_type": "stream",
     "text": [
      "C:\\Users\\jangi\\AppData\\Local\\Temp\\ipykernel_24660\\99508681.py:3: FutureWarning: A value is trying to be set on a copy of a DataFrame or Series through chained assignment using an inplace method.\n",
      "The behavior will change in pandas 3.0. This inplace method will never work because the intermediate object on which we are setting values always behaves as a copy.\n",
      "\n",
      "For example, when doing 'df[col].method(value, inplace=True)', try using 'df.method({col: value}, inplace=True)' or df[col] = df[col].method(value) instead, to perform the operation inplace on the original object.\n",
      "\n",
      "\n",
      "  df['BHK'].fillna(df['BHK'].median(), inplace=True)  # Fill missing values\n"
     ]
    }
   ],
   "source": [
    "# Extract BHK count from 'title'\n",
    "df['BHK'] = df['title'].str.extract(r'(\\d+)').astype(float)\n",
    "df['BHK'].fillna(df['BHK'].median(), inplace=True)  # Fill missing values\n",
    "df['BHK'] = df['BHK'].astype(int)\n",
    "df.drop(columns=['title'], inplace=True)\n",
    "\n",
    "# One-hot encoding for categorical features\n",
    "df = pd.get_dummies(df, columns=['location', 'building_status'], drop_first=True)\n",
    "\n",
    "# Log transformation to reduce price skewness\n",
    "df['log_price'] = np.log1p(df['price(L)'])\n"
   ]
  },
  {
   "cell_type": "code",
   "execution_count": 4,
   "id": "8cd6c63e-5c4f-4799-9769-efe8829e9ce5",
   "metadata": {},
   "outputs": [],
   "source": [
    "# Define features (X) and target variable (y)\n",
    "X = df.drop(columns=['price(L)', 'log_price'])\n",
    "y = df['log_price']\n",
    "\n",
    "# Split the data (80% train, 20% test)\n",
    "X_train, X_test, y_train, y_test = train_test_split(X, y, test_size=0.2, random_state=42)\n"
   ]
  },
  {
   "cell_type": "code",
   "execution_count": 5,
   "id": "46f8f9b6-0d50-4632-aa3b-d53e2b115ad4",
   "metadata": {},
   "outputs": [
    {
     "name": "stdout",
     "output_type": "stream",
     "text": [
      "MAE: 5.73 Lakhs\n",
      "RMSE: 45.44 Lakhs\n",
      "R² Score: 0.9456\n"
     ]
    }
   ],
   "source": [
    "# Train Random Forest model\n",
    "rf_model = RandomForestRegressor(n_estimators=100, random_state=42)\n",
    "rf_model.fit(X_train, y_train)\n",
    "\n",
    "# Make predictions\n",
    "y_pred = rf_model.predict(X_test)\n",
    "\n",
    "# Convert log predictions back to original price scale\n",
    "y_pred_original = np.expm1(np.clip(y_pred, a_min=None, a_max=20))  # Avoid overflow\n",
    "y_test_original = np.expm1(y_test)\n",
    "\n",
    "# Evaluate model performance\n",
    "mae = mean_absolute_error(y_test_original, y_pred_original)\n",
    "rmse = np.sqrt(mean_squared_error(y_test_original, y_pred_original))\n",
    "r2 = r2_score(y_test_original, y_pred_original)\n",
    "\n",
    "print(f\"MAE: {mae:.2f} Lakhs\")\n",
    "print(f\"RMSE: {rmse:.2f} Lakhs\")\n",
    "print(f\"R² Score: {r2:.4f}\")\n"
   ]
  },
  {
   "cell_type": "code",
   "execution_count": 6,
   "id": "55192081-177d-4114-aa92-42b37c082707",
   "metadata": {},
   "outputs": [
    {
     "data": {
      "text/plain": [
       "['house_price_model.pkl']"
      ]
     },
     "execution_count": 6,
     "metadata": {},
     "output_type": "execute_result"
    }
   ],
   "source": [
    "import joblib\n",
    "\n",
    "# Save trained model\n",
    "joblib.dump(rf_model, \"house_price_model.pkl\")\n",
    "\n",
    "# Load model for future use\n",
    "# loaded_model = joblib.load(\"house_price_model.pkl\")\n"
   ]
  },
  {
   "cell_type": "code",
   "execution_count": 7,
   "id": "4ea5285d-32d8-49b2-a72a-85ce2381d538",
   "metadata": {},
   "outputs": [
    {
     "data": {
      "text/plain": [
       "['features.pkl']"
      ]
     },
     "execution_count": 7,
     "metadata": {},
     "output_type": "execute_result"
    }
   ],
   "source": [
    "joblib.dump(X_train.columns.tolist(), \"features.pkl\")\n"
   ]
  },
  {
   "cell_type": "code",
   "execution_count": null,
   "id": "a1fbcee0-c0bd-45b2-90ff-3f5083279eb6",
   "metadata": {},
   "outputs": [],
   "source": []
  }
 ],
 "metadata": {
  "kernelspec": {
   "display_name": "Python [conda env:base] *",
   "language": "python",
   "name": "conda-base-py"
  },
  "language_info": {
   "codemirror_mode": {
    "name": "ipython",
    "version": 3
   },
   "file_extension": ".py",
   "mimetype": "text/x-python",
   "name": "python",
   "nbconvert_exporter": "python",
   "pygments_lexer": "ipython3",
   "version": "3.12.7"
  }
 },
 "nbformat": 4,
 "nbformat_minor": 5
}
